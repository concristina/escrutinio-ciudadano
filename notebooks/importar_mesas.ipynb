{
 "cells": [
  {
   "cell_type": "code",
   "execution_count": 1,
   "metadata": {},
   "outputs": [
    {
     "name": "stdout",
     "output_type": "stream",
     "text": [
      "numero,seccion\r",
      "\r\n",
      "0789,011\r",
      "\r\n",
      "0789A,011\r",
      "\r\n",
      "0789B,011\r",
      "\r\n",
      "0789C,011\r",
      "\r\n",
      "0789D,011\r",
      "\r\n",
      "0789E,011\r",
      "\r\n",
      "0789F,011\r",
      "\r\n",
      "0790,011\r",
      "\r\n",
      "0790A,011\r",
      "\r\n"
     ]
    }
   ],
   "source": [
    "!head circuitos.csv"
   ]
  },
  {
   "cell_type": "code",
   "execution_count": 2,
   "metadata": {},
   "outputs": [
    {
     "name": "stdout",
     "output_type": "stream",
     "text": [
      "nombre,numero\r",
      "\r\n",
      "Adolfo Alsina,001\r",
      "\r\n",
      "Alberti,002\r",
      "\r\n",
      "Almirante Brown,003\r",
      "\r\n",
      "Avellaneda,004\r",
      "\r\n",
      "Ayacucho,005\r",
      "\r\n",
      "Azul,006\r",
      "\r\n",
      "Bahía Blanca,007\r",
      "\r\n",
      "Balcarce,008\r",
      "\r\n",
      "Baradero,009\r",
      "\r\n"
     ]
    }
   ],
   "source": [
    "!head secciones.csv"
   ]
  },
  {
   "cell_type": "code",
   "execution_count": 3,
   "metadata": {},
   "outputs": [
    {
     "name": "stdout",
     "output_type": "stream",
     "text": [
      "circuito,fake_id,numero,url\r",
      "\r\n",
      "0183,0183-00039,00039,02/032/0183/020320183_00039.htm\r",
      "\r\n",
      "0183,0183-00040,00040,02/032/0183/020320183_00040.htm\r",
      "\r\n",
      "0183,0183-00041,00041,02/032/0183/020320183_00041.htm\r",
      "\r\n",
      "0183,0183-00042,00042,02/032/0183/020320183_00042.htm\r",
      "\r\n",
      "0183,0183-00043,00043,02/032/0183/020320183_00043.htm\r",
      "\r\n",
      "0183,0183-00044,00044,02/032/0183/020320183_00044.htm\r",
      "\r\n",
      "0207L,0207L-00001,00001,02/135/0207L/021350207L00001.htm\r",
      "\r\n",
      "0207L,0207L-00002,00002,02/135/0207L/021350207L00002.htm\r",
      "\r\n",
      "0207L,0207L-00003,00003,02/135/0207L/021350207L00003.htm\r",
      "\r\n"
     ]
    }
   ],
   "source": [
    "!head mesas.csv"
   ]
  },
  {
   "cell_type": "code",
   "execution_count": 3,
   "metadata": {},
   "outputs": [
    {
     "data": {
      "text/plain": [
       "(142,\n",
       " {'elecciones.Circuito': 1,\n",
       "  'elecciones.LugarVotacion': 1,\n",
       "  'elecciones.Mesa': 1,\n",
       "  'elecciones.Seccion': 136,\n",
       "  'fiscales.AsignacionVoluntario': 1,\n",
       "  'fiscales.VotoMesaOficial': 0,\n",
       "  'fiscales.VotoMesaReportado': 2})"
      ]
     },
     "execution_count": 3,
     "metadata": {},
     "output_type": "execute_result"
    }
   ],
   "source": [
    "from csv import DictReader\n",
    "Seccion.objects.all().delete()"
   ]
  },
  {
   "cell_type": "code",
   "execution_count": 4,
   "metadata": {
    "collapsed": true
   },
   "outputs": [],
   "source": [
    "for seccion in DictReader(open('secciones.csv')):\n",
    "    Seccion.objects.create(**seccion)\n",
    "    "
   ]
  },
  {
   "cell_type": "code",
   "execution_count": 6,
   "metadata": {},
   "outputs": [],
   "source": [
    "secciones = {s.numero: s for s in Seccion.objects.all()}\n",
    "circuitos = []\n",
    "for circuito in DictReader(open('circuitos.csv')):\n",
    "    circuito['seccion'] = secciones[int(circuito['seccion'])] \n",
    "    circuitos.append(Circuito(**circuito))\n",
    "Circuito.objects.bulk_create(circuitos);"
   ]
  },
  {
   "cell_type": "code",
   "execution_count": 8,
   "metadata": {
    "collapsed": true
   },
   "outputs": [],
   "source": [
    "e = Eleccion.objects.get(id=1)"
   ]
  },
  {
   "cell_type": "code",
   "execution_count": 11,
   "metadata": {},
   "outputs": [],
   "source": [
    "circuitos = {c.numero: c for c in Circuito.objects.all()}\n",
    "mesas = []\n",
    "for mesa in DictReader(open('mesas.csv')):\n",
    "    mesa['circuito'] = circuitos[mesa['circuito']]\n",
    "    mesa.pop('fake_id')\n",
    "    mesa.pop('url')\n",
    "    mesas.append(Mesa(eleccion=e, **mesa))\n",
    "Mesa.objects.bulk_create(mesas);"
   ]
  },
  {
   "cell_type": "code",
   "execution_count": null,
   "metadata": {
    "collapsed": true
   },
   "outputs": [],
   "source": []
  }
 ],
 "metadata": {
  "kernelspec": {
   "display_name": "Django Shell-Plus",
   "language": "python",
   "name": "django_extensions"
  },
  "language_info": {
   "codemirror_mode": {
    "name": "ipython",
    "version": 3
   },
   "file_extension": ".py",
   "mimetype": "text/x-python",
   "name": "python",
   "nbconvert_exporter": "python",
   "pygments_lexer": "ipython3",
   "version": "3.6.1"
  }
 },
 "nbformat": 4,
 "nbformat_minor": 2
}
